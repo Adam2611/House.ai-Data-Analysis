{
 "cells": [
  {
   "cell_type": "code",
   "execution_count": 574,
   "metadata": {},
   "outputs": [
    {
     "data": {
      "application/javascript": "(function(root) {\n  function now() {\n    return new Date();\n  }\n\n  var force = true;\n\n  if (typeof root._bokeh_onload_callbacks === \"undefined\" || force === true) {\n    root._bokeh_onload_callbacks = [];\n    root._bokeh_is_loading = undefined;\n  }\n\n  if (typeof (root._bokeh_timeout) === \"undefined\" || force === true) {\n    root._bokeh_timeout = Date.now() + 5000;\n    root._bokeh_failed_load = false;\n  }\n\n  function run_callbacks() {\n    try {\n      root._bokeh_onload_callbacks.forEach(function(callback) {\n        if (callback != null)\n          callback();\n      });\n    } finally {\n      delete root._bokeh_onload_callbacks\n    }\n    console.debug(\"Bokeh: all callbacks have finished\");\n  }\n\n  function load_libs(css_urls, js_urls, js_modules, callback) {\n    if (css_urls == null) css_urls = [];\n    if (js_urls == null) js_urls = [];\n    if (js_modules == null) js_modules = [];\n\n    root._bokeh_onload_callbacks.push(callback);\n    if (root._bokeh_is_loading > 0) {\n      console.debug(\"Bokeh: BokehJS is being loaded, scheduling callback at\", now());\n      return null;\n    }\n    if (js_urls.length === 0 && js_modules.length === 0) {\n      run_callbacks();\n      return null;\n    }\n    console.debug(\"Bokeh: BokehJS not loaded, scheduling load and callback at\", now());\n\n    function on_load() {\n      root._bokeh_is_loading--;\n      if (root._bokeh_is_loading === 0) {\n        console.debug(\"Bokeh: all BokehJS libraries/stylesheets loaded\");\n        run_callbacks()\n      }\n    }\n\n    function on_error() {\n      console.error(\"failed to load \" + url);\n    }\n\n    for (var i = 0; i < css_urls.length; i++) {\n      var url = css_urls[i];\n      const element = document.createElement(\"link\");\n      element.onload = on_load;\n      element.onerror = on_error;\n      element.rel = \"stylesheet\";\n      element.type = \"text/css\";\n      element.href = url;\n      console.debug(\"Bokeh: injecting link tag for BokehJS stylesheet: \", url);\n      document.body.appendChild(element);\n    }\n\n    var skip = [];\n    if (window.requirejs) {\n      window.requirejs.config({'packages': {}, 'paths': {'gridstack': 'https://cdn.jsdelivr.net/npm/gridstack@4.2.5/dist/gridstack-h5', 'notyf': 'https://cdn.jsdelivr.net/npm/notyf@3/notyf.min'}, 'shim': {'gridstack': {'exports': 'GridStack'}}});\n      require([\"gridstack\"], function(GridStack) {\n\twindow.GridStack = GridStack\n\ton_load()\n      })\n      require([\"notyf\"], function() {\n\ton_load()\n      })\n      root._bokeh_is_loading = css_urls.length + 2;\n    } else {\n      root._bokeh_is_loading = css_urls.length + js_urls.length + js_modules.length;\n    }    if (((window['GridStack'] !== undefined) && (!(window['GridStack'] instanceof HTMLElement))) || window.requirejs) {\n      var urls = ['https://cdn.holoviz.org/panel/0.14.2/dist/bundled/gridstack/gridstack@4.2.5/dist/gridstack-h5.js'];\n      for (var i = 0; i < urls.length; i++) {\n        skip.push(urls[i])\n      }\n    }    if (((window['Notyf'] !== undefined) && (!(window['Notyf'] instanceof HTMLElement))) || window.requirejs) {\n      var urls = ['https://cdn.holoviz.org/panel/0.14.2/dist/bundled/notificationarea/notyf@3/notyf.min.js'];\n      for (var i = 0; i < urls.length; i++) {\n        skip.push(urls[i])\n      }\n    }    for (var i = 0; i < js_urls.length; i++) {\n      var url = js_urls[i];\n      if (skip.indexOf(url) >= 0) {\n\tif (!window.requirejs) {\n\t  on_load();\n\t}\n\tcontinue;\n      }\n      var element = document.createElement('script');\n      element.onload = on_load;\n      element.onerror = on_error;\n      element.async = false;\n      element.src = url;\n      console.debug(\"Bokeh: injecting script tag for BokehJS library: \", url);\n      document.head.appendChild(element);\n    }\n    for (var i = 0; i < js_modules.length; i++) {\n      var url = js_modules[i];\n      if (skip.indexOf(url) >= 0) {\n\tif (!window.requirejs) {\n\t  on_load();\n\t}\n\tcontinue;\n      }\n      var element = document.createElement('script');\n      element.onload = on_load;\n      element.onerror = on_error;\n      element.async = false;\n      element.src = url;\n      element.type = \"module\";\n      console.debug(\"Bokeh: injecting script tag for BokehJS library: \", url);\n      document.head.appendChild(element);\n    }\n    if (!js_urls.length && !js_modules.length) {\n      on_load()\n    }\n  };\n\n  function inject_raw_css(css) {\n    const element = document.createElement(\"style\");\n    element.appendChild(document.createTextNode(css));\n    document.body.appendChild(element);\n  }\n\n  var js_urls = [\"https://cdn.bokeh.org/bokeh/release/bokeh-2.4.3.min.js\", \"https://cdn.bokeh.org/bokeh/release/bokeh-gl-2.4.3.min.js\", \"https://cdn.bokeh.org/bokeh/release/bokeh-widgets-2.4.3.min.js\", \"https://cdn.bokeh.org/bokeh/release/bokeh-tables-2.4.3.min.js\", \"https://cdn.bokeh.org/bokeh/release/bokeh-mathjax-2.4.3.min.js\", \"https://unpkg.com/@holoviz/panel@0.14.2/dist/panel.min.js\"];\n  var js_modules = [];\n  var css_urls = [\"https://cdn.holoviz.org/panel/0.14.2/dist/css/alerts.css\", \"https://cdn.holoviz.org/panel/0.14.2/dist/css/card.css\", \"https://cdn.holoviz.org/panel/0.14.2/dist/css/dataframe.css\", \"https://cdn.holoviz.org/panel/0.14.2/dist/css/debugger.css\", \"https://cdn.holoviz.org/panel/0.14.2/dist/css/json.css\", \"https://cdn.holoviz.org/panel/0.14.2/dist/css/loading.css\", \"https://cdn.holoviz.org/panel/0.14.2/dist/css/markdown.css\", \"https://cdn.holoviz.org/panel/0.14.2/dist/css/widgets.css\"];\n  var inline_js = [    function(Bokeh) {\n      inject_raw_css(\"\\n    .bk.pn-loading.arc:before {\\n      background-image: url(\\\"data:image/svg+xml;base64,PHN2ZyB4bWxucz0iaHR0cDovL3d3dy53My5vcmcvMjAwMC9zdmciIHN0eWxlPSJtYXJnaW46IGF1dG87IGJhY2tncm91bmQ6IG5vbmU7IGRpc3BsYXk6IGJsb2NrOyBzaGFwZS1yZW5kZXJpbmc6IGF1dG87IiB2aWV3Qm94PSIwIDAgMTAwIDEwMCIgcHJlc2VydmVBc3BlY3RSYXRpbz0ieE1pZFlNaWQiPiAgPGNpcmNsZSBjeD0iNTAiIGN5PSI1MCIgZmlsbD0ibm9uZSIgc3Ryb2tlPSIjYzNjM2MzIiBzdHJva2Utd2lkdGg9IjEwIiByPSIzNSIgc3Ryb2tlLWRhc2hhcnJheT0iMTY0LjkzMzYxNDMxMzQ2NDE1IDU2Ljk3Nzg3MTQzNzgyMTM4Ij4gICAgPGFuaW1hdGVUcmFuc2Zvcm0gYXR0cmlidXRlTmFtZT0idHJhbnNmb3JtIiB0eXBlPSJyb3RhdGUiIHJlcGVhdENvdW50PSJpbmRlZmluaXRlIiBkdXI9IjFzIiB2YWx1ZXM9IjAgNTAgNTA7MzYwIDUwIDUwIiBrZXlUaW1lcz0iMDsxIj48L2FuaW1hdGVUcmFuc2Zvcm0+ICA8L2NpcmNsZT48L3N2Zz4=\\\");\\n      background-size: auto calc(min(50%, 400px));\\n    }\\n    \");\n    },    function(Bokeh) {\n      Bokeh.set_log_level(\"info\");\n    },\nfunction(Bokeh) {} // ensure no trailing comma for IE\n  ];\n\n  function run_inline_js() {\n    if ((root.Bokeh !== undefined) || (force === true)) {\n      for (var i = 0; i < inline_js.length; i++) {\n        inline_js[i].call(root, root.Bokeh);\n      }} else if (Date.now() < root._bokeh_timeout) {\n      setTimeout(run_inline_js, 100);\n    } else if (!root._bokeh_failed_load) {\n      console.log(\"Bokeh: BokehJS failed to load within specified timeout.\");\n      root._bokeh_failed_load = true;\n    }\n  }\n\n  if (root._bokeh_is_loading === 0) {\n    console.debug(\"Bokeh: BokehJS loaded, going straight to plotting\");\n    run_inline_js();\n  } else {\n    load_libs(css_urls, js_urls, js_modules, function() {\n      console.debug(\"Bokeh: BokehJS plotting callback run at\", now());\n      run_inline_js();\n    });\n  }\n}(window));",
      "application/vnd.holoviews_load.v0+json": ""
     },
     "metadata": {},
     "output_type": "display_data"
    },
    {
     "data": {
      "application/javascript": "\nif ((window.PyViz === undefined) || (window.PyViz instanceof HTMLElement)) {\n  window.PyViz = {comms: {}, comm_status:{}, kernels:{}, receivers: {}, plot_index: []}\n}\n\n\n    function JupyterCommManager() {\n    }\n\n    JupyterCommManager.prototype.register_target = function(plot_id, comm_id, msg_handler) {\n      if (window.comm_manager || ((window.Jupyter !== undefined) && (Jupyter.notebook.kernel != null))) {\n        var comm_manager = window.comm_manager || Jupyter.notebook.kernel.comm_manager;\n        comm_manager.register_target(comm_id, function(comm) {\n          comm.on_msg(msg_handler);\n        });\n      } else if ((plot_id in window.PyViz.kernels) && (window.PyViz.kernels[plot_id])) {\n        window.PyViz.kernels[plot_id].registerCommTarget(comm_id, function(comm) {\n          comm.onMsg = msg_handler;\n        });\n      } else if (typeof google != 'undefined' && google.colab.kernel != null) {\n        google.colab.kernel.comms.registerTarget(comm_id, (comm) => {\n          var messages = comm.messages[Symbol.asyncIterator]();\n          function processIteratorResult(result) {\n            var message = result.value;\n            console.log(message)\n            var content = {data: message.data, comm_id};\n            var buffers = []\n            for (var buffer of message.buffers || []) {\n              buffers.push(new DataView(buffer))\n            }\n            var metadata = message.metadata || {};\n            var msg = {content, buffers, metadata}\n            msg_handler(msg);\n            return messages.next().then(processIteratorResult);\n          }\n          return messages.next().then(processIteratorResult);\n        })\n      }\n    }\n\n    JupyterCommManager.prototype.get_client_comm = function(plot_id, comm_id, msg_handler) {\n      if (comm_id in window.PyViz.comms) {\n        return window.PyViz.comms[comm_id];\n      } else if (window.comm_manager || ((window.Jupyter !== undefined) && (Jupyter.notebook.kernel != null))) {\n        var comm_manager = window.comm_manager || Jupyter.notebook.kernel.comm_manager;\n        var comm = comm_manager.new_comm(comm_id, {}, {}, {}, comm_id);\n        if (msg_handler) {\n          comm.on_msg(msg_handler);\n        }\n      } else if ((plot_id in window.PyViz.kernels) && (window.PyViz.kernels[plot_id])) {\n        var comm = window.PyViz.kernels[plot_id].connectToComm(comm_id);\n        comm.open();\n        if (msg_handler) {\n          comm.onMsg = msg_handler;\n        }\n      } else if (typeof google != 'undefined' && google.colab.kernel != null) {\n        var comm_promise = google.colab.kernel.comms.open(comm_id)\n        comm_promise.then((comm) => {\n          window.PyViz.comms[comm_id] = comm;\n          if (msg_handler) {\n            var messages = comm.messages[Symbol.asyncIterator]();\n            function processIteratorResult(result) {\n              var message = result.value;\n              var content = {data: message.data};\n              var metadata = message.metadata || {comm_id};\n              var msg = {content, metadata}\n              msg_handler(msg);\n              return messages.next().then(processIteratorResult);\n            }\n            return messages.next().then(processIteratorResult);\n          }\n        }) \n        var sendClosure = (data, metadata, buffers, disposeOnDone) => {\n          return comm_promise.then((comm) => {\n            comm.send(data, metadata, buffers, disposeOnDone);\n          });\n        };\n        var comm = {\n          send: sendClosure\n        };\n      }\n      window.PyViz.comms[comm_id] = comm;\n      return comm;\n    }\n    window.PyViz.comm_manager = new JupyterCommManager();\n    \n\n\nvar JS_MIME_TYPE = 'application/javascript';\nvar HTML_MIME_TYPE = 'text/html';\nvar EXEC_MIME_TYPE = 'application/vnd.holoviews_exec.v0+json';\nvar CLASS_NAME = 'output';\n\n/**\n * Render data to the DOM node\n */\nfunction render(props, node) {\n  var div = document.createElement(\"div\");\n  var script = document.createElement(\"script\");\n  node.appendChild(div);\n  node.appendChild(script);\n}\n\n/**\n * Handle when a new output is added\n */\nfunction handle_add_output(event, handle) {\n  var output_area = handle.output_area;\n  var output = handle.output;\n  if ((output.data == undefined) || (!output.data.hasOwnProperty(EXEC_MIME_TYPE))) {\n    return\n  }\n  var id = output.metadata[EXEC_MIME_TYPE][\"id\"];\n  var toinsert = output_area.element.find(\".\" + CLASS_NAME.split(' ')[0]);\n  if (id !== undefined) {\n    var nchildren = toinsert.length;\n    var html_node = toinsert[nchildren-1].children[0];\n    html_node.innerHTML = output.data[HTML_MIME_TYPE];\n    var scripts = [];\n    var nodelist = html_node.querySelectorAll(\"script\");\n    for (var i in nodelist) {\n      if (nodelist.hasOwnProperty(i)) {\n        scripts.push(nodelist[i])\n      }\n    }\n\n    scripts.forEach( function (oldScript) {\n      var newScript = document.createElement(\"script\");\n      var attrs = [];\n      var nodemap = oldScript.attributes;\n      for (var j in nodemap) {\n        if (nodemap.hasOwnProperty(j)) {\n          attrs.push(nodemap[j])\n        }\n      }\n      attrs.forEach(function(attr) { newScript.setAttribute(attr.name, attr.value) });\n      newScript.appendChild(document.createTextNode(oldScript.innerHTML));\n      oldScript.parentNode.replaceChild(newScript, oldScript);\n    });\n    if (JS_MIME_TYPE in output.data) {\n      toinsert[nchildren-1].children[1].textContent = output.data[JS_MIME_TYPE];\n    }\n    output_area._hv_plot_id = id;\n    if ((window.Bokeh !== undefined) && (id in Bokeh.index)) {\n      window.PyViz.plot_index[id] = Bokeh.index[id];\n    } else {\n      window.PyViz.plot_index[id] = null;\n    }\n  } else if (output.metadata[EXEC_MIME_TYPE][\"server_id\"] !== undefined) {\n    var bk_div = document.createElement(\"div\");\n    bk_div.innerHTML = output.data[HTML_MIME_TYPE];\n    var script_attrs = bk_div.children[0].attributes;\n    for (var i = 0; i < script_attrs.length; i++) {\n      toinsert[toinsert.length - 1].childNodes[1].setAttribute(script_attrs[i].name, script_attrs[i].value);\n    }\n    // store reference to server id on output_area\n    output_area._bokeh_server_id = output.metadata[EXEC_MIME_TYPE][\"server_id\"];\n  }\n}\n\n/**\n * Handle when an output is cleared or removed\n */\nfunction handle_clear_output(event, handle) {\n  var id = handle.cell.output_area._hv_plot_id;\n  var server_id = handle.cell.output_area._bokeh_server_id;\n  if (((id === undefined) || !(id in PyViz.plot_index)) && (server_id !== undefined)) { return; }\n  var comm = window.PyViz.comm_manager.get_client_comm(\"hv-extension-comm\", \"hv-extension-comm\", function () {});\n  if (server_id !== null) {\n    comm.send({event_type: 'server_delete', 'id': server_id});\n    return;\n  } else if (comm !== null) {\n    comm.send({event_type: 'delete', 'id': id});\n  }\n  delete PyViz.plot_index[id];\n  if ((window.Bokeh !== undefined) & (id in window.Bokeh.index)) {\n    var doc = window.Bokeh.index[id].model.document\n    doc.clear();\n    const i = window.Bokeh.documents.indexOf(doc);\n    if (i > -1) {\n      window.Bokeh.documents.splice(i, 1);\n    }\n  }\n}\n\n/**\n * Handle kernel restart event\n */\nfunction handle_kernel_cleanup(event, handle) {\n  delete PyViz.comms[\"hv-extension-comm\"];\n  window.PyViz.plot_index = {}\n}\n\n/**\n * Handle update_display_data messages\n */\nfunction handle_update_output(event, handle) {\n  handle_clear_output(event, {cell: {output_area: handle.output_area}})\n  handle_add_output(event, handle)\n}\n\nfunction register_renderer(events, OutputArea) {\n  function append_mime(data, metadata, element) {\n    // create a DOM node to render to\n    var toinsert = this.create_output_subarea(\n    metadata,\n    CLASS_NAME,\n    EXEC_MIME_TYPE\n    );\n    this.keyboard_manager.register_events(toinsert);\n    // Render to node\n    var props = {data: data, metadata: metadata[EXEC_MIME_TYPE]};\n    render(props, toinsert[0]);\n    element.append(toinsert);\n    return toinsert\n  }\n\n  events.on('output_added.OutputArea', handle_add_output);\n  events.on('output_updated.OutputArea', handle_update_output);\n  events.on('clear_output.CodeCell', handle_clear_output);\n  events.on('delete.Cell', handle_clear_output);\n  events.on('kernel_ready.Kernel', handle_kernel_cleanup);\n\n  OutputArea.prototype.register_mime_type(EXEC_MIME_TYPE, append_mime, {\n    safe: true,\n    index: 0\n  });\n}\n\nif (window.Jupyter !== undefined) {\n  try {\n    var events = require('base/js/events');\n    var OutputArea = require('notebook/js/outputarea').OutputArea;\n    if (OutputArea.prototype.mime_types().indexOf(EXEC_MIME_TYPE) == -1) {\n      register_renderer(events, OutputArea);\n    }\n  } catch(err) {\n  }\n}\n",
      "application/vnd.holoviews_load.v0+json": ""
     },
     "metadata": {},
     "output_type": "display_data"
    },
    {
     "data": {
      "text/html": [
       "<style>.bk-root, .bk-root .bk:before, .bk-root .bk:after {\n",
       "  font-family: var(--jp-ui-font-size1);\n",
       "  font-size: var(--jp-ui-font-size1);\n",
       "  color: var(--jp-ui-font-color1);\n",
       "}\n",
       "</style>"
      ]
     },
     "metadata": {},
     "output_type": "display_data"
    }
   ],
   "source": [
    "import pandas as pd; import numpy as np; import matplotlib.pyplot as plt\n",
    "import panel as pn\n",
    "import numpy as np\n",
    "import holoviews as hv\n",
    "from bokeh.plotting import figure\n",
    "from panel.layout.gridstack import GridStack\n",
    "from panel.template import DarkTheme\n",
    "\n",
    "\n",
    "pn.extension(sizing_mode='stretch_width')"
   ]
  },
  {
   "cell_type": "code",
   "execution_count": 575,
   "metadata": {},
   "outputs": [],
   "source": [
    "logo_uri = \"data:image/png;base64,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\""
   ]
  },
  {
   "cell_type": "code",
   "execution_count": 576,
   "metadata": {},
   "outputs": [
    {
     "data": {
      "text/html": [
       "<div>\n",
       "<style scoped>\n",
       "    .dataframe tbody tr th:only-of-type {\n",
       "        vertical-align: middle;\n",
       "    }\n",
       "\n",
       "    .dataframe tbody tr th {\n",
       "        vertical-align: top;\n",
       "    }\n",
       "\n",
       "    .dataframe thead th {\n",
       "        text-align: right;\n",
       "    }\n",
       "</style>\n",
       "<table border=\"1\" class=\"dataframe\">\n",
       "  <thead>\n",
       "    <tr style=\"text-align: right;\">\n",
       "      <th></th>\n",
       "      <th>new_date</th>\n",
       "      <th>BP1</th>\n",
       "      <th>BP2</th>\n",
       "      <th>Pulse</th>\n",
       "      <th>Temp</th>\n",
       "      <th>RR</th>\n",
       "      <th>O2Sat</th>\n",
       "      <th>Age_Number</th>\n",
       "      <th>Male</th>\n",
       "      <th>Female</th>\n",
       "    </tr>\n",
       "  </thead>\n",
       "  <tbody>\n",
       "    <tr>\n",
       "      <th>1046850</th>\n",
       "      <td>855.0</td>\n",
       "      <td>115.0</td>\n",
       "      <td>40.0</td>\n",
       "      <td>67.0</td>\n",
       "      <td>-1.0</td>\n",
       "      <td>16.0</td>\n",
       "      <td>100.0</td>\n",
       "      <td>63</td>\n",
       "      <td>1</td>\n",
       "      <td>0</td>\n",
       "    </tr>\n",
       "    <tr>\n",
       "      <th>1046851</th>\n",
       "      <td>932.0</td>\n",
       "      <td>122.0</td>\n",
       "      <td>59.0</td>\n",
       "      <td>72.0</td>\n",
       "      <td>-1.0</td>\n",
       "      <td>16.0</td>\n",
       "      <td>95.0</td>\n",
       "      <td>63</td>\n",
       "      <td>1</td>\n",
       "      <td>0</td>\n",
       "    </tr>\n",
       "    <tr>\n",
       "      <th>1046852</th>\n",
       "      <td>1022.0</td>\n",
       "      <td>120.0</td>\n",
       "      <td>78.0</td>\n",
       "      <td>77.0</td>\n",
       "      <td>36.7</td>\n",
       "      <td>16.0</td>\n",
       "      <td>95.0</td>\n",
       "      <td>63</td>\n",
       "      <td>1</td>\n",
       "      <td>0</td>\n",
       "    </tr>\n",
       "    <tr>\n",
       "      <th>1046853</th>\n",
       "      <td>1308.0</td>\n",
       "      <td>157.0</td>\n",
       "      <td>82.0</td>\n",
       "      <td>64.0</td>\n",
       "      <td>36.5</td>\n",
       "      <td>15.0</td>\n",
       "      <td>94.0</td>\n",
       "      <td>63</td>\n",
       "      <td>1</td>\n",
       "      <td>0</td>\n",
       "    </tr>\n",
       "    <tr>\n",
       "      <th>1046854</th>\n",
       "      <td>1601.0</td>\n",
       "      <td>147.0</td>\n",
       "      <td>82.0</td>\n",
       "      <td>63.0</td>\n",
       "      <td>36.6</td>\n",
       "      <td>16.0</td>\n",
       "      <td>96.0</td>\n",
       "      <td>63</td>\n",
       "      <td>1</td>\n",
       "      <td>0</td>\n",
       "    </tr>\n",
       "  </tbody>\n",
       "</table>\n",
       "</div>"
      ],
      "text/plain": [
       "         new_date    BP1   BP2  Pulse  Temp    RR  O2Sat  Age_Number  Male  \\\n",
       "1046850     855.0  115.0  40.0   67.0  -1.0  16.0  100.0          63     1   \n",
       "1046851     932.0  122.0  59.0   72.0  -1.0  16.0   95.0          63     1   \n",
       "1046852    1022.0  120.0  78.0   77.0  36.7  16.0   95.0          63     1   \n",
       "1046853    1308.0  157.0  82.0   64.0  36.5  15.0   94.0          63     1   \n",
       "1046854    1601.0  147.0  82.0   63.0  36.6  16.0   96.0          63     1   \n",
       "\n",
       "         Female  \n",
       "1046850       0  \n",
       "1046851       0  \n",
       "1046852       0  \n",
       "1046853       0  \n",
       "1046854       0  "
      ]
     },
     "execution_count": 576,
     "metadata": {},
     "output_type": "execute_result"
    }
   ],
   "source": [
    "csv_file = \"../FormattedData/39.csv\"\n",
    "data = pd.read_csv(csv_file)\n",
    "\n",
    "del data[\"Unnamed: 0\"]\n",
    "\n",
    "data.tail()"
   ]
  },
  {
   "cell_type": "code",
   "execution_count": 577,
   "metadata": {},
   "outputs": [
    {
     "name": "stderr",
     "output_type": "stream",
     "text": [
      "BokehUserWarning: ColumnDataSource's columns must be of the same length. Current lengths: ('color', 6), ('counts', 2), ('sex', 2)\n"
     ]
    }
   ],
   "source": [
    "from bokeh.models import ColumnDataSource\n",
    "from bokeh.palettes import Spectral6\n",
    "from bokeh.plotting import figure, show\n",
    "\n",
    "sex = ['Men', 'Women']\n",
    "counts = [6139, 7649]\n",
    "\n",
    "source = ColumnDataSource(data=dict(sex=sex, counts=counts, color=Spectral6))\n",
    "\n",
    "p = figure(x_range=sex, y_range=(0,8000), height=400, title=\"Sex Distribution of Analyzed Patients\",\n",
    "           toolbar_location=None, tools=\"hover\", tooltips=\"@sex: @counts\")\n",
    "\n",
    "p.vbar(x='sex', top='counts', width=0.5, color='color', legend_field=\"sex\", source=source)\n",
    "\n",
    "p.xgrid.grid_line_color = None\n",
    "p.legend.orientation = \"horizontal\"\n",
    "p.legend.location = \"top_center\""
   ]
  },
  {
   "cell_type": "code",
   "execution_count": 578,
   "metadata": {},
   "outputs": [],
   "source": [
    "from math import pi\n",
    "\n",
    "from bokeh.palettes import Category20c, Category20\n",
    "from bokeh.plotting import figure\n",
    "from bokeh.transform import cumsum\n",
    "\n",
    "x = {\n",
    "    '0-19': 1283,\n",
    "    '20-39': 2120,\n",
    "    '40-59': 1980,\n",
    "    '60-79': 5327,\n",
    "    '80+' : 3078\n",
    "}\n",
    "\n",
    "data = pd.Series(x).reset_index(name='value').rename(columns={'index':'country'})\n",
    "data['angle'] = data['value']/data['value'].sum() * 2*pi\n",
    "data['color'] = Category20c[len(x)]\n",
    "\n",
    "p_sepsis = figure(plot_height=400, title=\"Age Distribution of Analyzed Patients\", toolbar_location=None,\n",
    "           tools=\"hover\", tooltips=\"@country: @value\", x_range=(-0.5, 1.0))\n",
    "\n",
    "r = p_sepsis.wedge(x=0, y=1, radius=0.32,\n",
    "        start_angle=cumsum('angle', include_zero=True), end_angle=cumsum('angle'),\n",
    "        line_color=\"white\", fill_color='color', legend_field='country', source=data)\n",
    "\n",
    "p_sepsis.axis.axis_label=\"None\"\n",
    "p_sepsis.axis.visible=False\n",
    "p_sepsis.grid.grid_line_color = None"
   ]
  },
  {
   "cell_type": "code",
   "execution_count": 579,
   "metadata": {},
   "outputs": [
    {
     "name": "stdout",
     "output_type": "stream",
     "text": [
      "[[1 1 1 1]\n",
      " [1 1 1 1]\n",
      " [1 1 1 1]\n",
      " [1 1 1 1]\n",
      " [1 1 1 1]]\n"
     ]
    }
   ],
   "source": [
    "gspec = pn.GridSpec(sizing_mode='stretch_both', max_height=800)\n",
    "\n",
    "gspec[0:1, 0:4] = pn.pane.HTML(\"\"\"\n",
    "\n",
    "<h2>An interactive dashboard reporting the results of the analysis of rapid-onset sepsis data performed by House.ai</h2>\n",
    "\n",
    "\"\"\", style={'text-align':'center'})\n",
    "\n",
    "\n",
    "number1 = pn.indicators.Number(\n",
    "    name='Total Data Points', value=13, format='{value} Million+',\n",
    "    colors=[(33, 'red'), (66, 'gold'), (100000000, 'red')],\n",
    "    title_size = \"14pt\", font_size = \"40pt\"\n",
    ")\n",
    "gspec[1:2, 0:1] = pn.Row(number1)\n",
    "\n",
    "number2 = pn.indicators.Number(\n",
    "    name='Individual Patients Analyzed', value=13788, format='{value}',\n",
    "    colors=[(33, 'green'), (25000, 'gold'), (100, 'red')],\n",
    "    title_size = \"14pt\", font_size = \"40pt\"\n",
    ")\n",
    "gspec[1:2, 1:2] = pn.Row(number2)\n",
    "\n",
    "number3 = pn.indicators.Number(\n",
    "    name='Sepsis Factors (HR/BP/etc.)', value=10, format='{value}',\n",
    "    colors=[(33, 'green'), (66, 'gold'), (100, 'red')],\n",
    "    title_size = \"14pt\", font_size = \"40pt\"\n",
    ")\n",
    "gspec[1:2, 2:3] = pn.Row(number3)\n",
    "\n",
    "number4 = pn.indicators.Number(\n",
    "    name='Different Data Sources', value=4, format='{value}',\n",
    "    colors=[(33, 'orange'), (66, 'gold'), (100, 'red')],\n",
    "    title_size = \"14pt\", font_size = \"40pt\"\n",
    ")\n",
    "gspec[1:2, 3:4] = pn.Row(number4)\n",
    "\n",
    "\n",
    "number5 = pn.indicators.Number(\n",
    "    name='Positive Sepsis Cases', value=1000, format='{value}+',\n",
    "    colors=[(33, 'green'), (66, 'gold'), (100000000, 'red')],\n",
    "    title_size = \"14pt\", font_size = \"40pt\"\n",
    ")\n",
    "gspec[2:3, 0:1] = pn.Row(number5)\n",
    "\n",
    "number6 = pn.indicators.Number(\n",
    "    name='Time Periods Analyzed', value=22216, format='{value}',\n",
    "    colors=[(33, 'green'), (25000, 'gold'), (100, 'red')],\n",
    "    title_size = \"14pt\", font_size = \"40pt\"\n",
    ")\n",
    "gspec[2:3, 1:2] = pn.Row(number6)\n",
    "\n",
    "number7 = pn.indicators.Number(\n",
    "    name='Hospitals Served', value=4, format='{value}',\n",
    "    colors=[(33, 'green'), (66, 'gold'), (100, 'red')],\n",
    "    title_size = \"14pt\", font_size = \"40pt\"\n",
    ")\n",
    "gspec[2:3, 2:3] = pn.Row(number7)\n",
    "\n",
    "number8 = pn.indicators.Number(\n",
    "    name='Years of Data Analyzed', value=3, format='{value}',\n",
    "    colors=[(33, 'orange'), (66, 'gold'), (100, 'red')],\n",
    "    title_size = \"14pt\", font_size = \"40pt\"\n",
    ")\n",
    "gspec[2:3, 3:4] = pn.Row(number8)\n",
    "\n",
    "gspec[3:5, 0:2] = pn.pane.Bokeh(p, theme=\"night_sky\", margin = (0,70,0,70))\n",
    "gspec[3:5, 2:4] = pn.pane.Bokeh(p_sepsis, theme=\"night_sky\", margin = (0,70,0,70))\n",
    "\n",
    "\n",
    "print(gspec.grid)\n",
    "content1 = [\n",
    "    gspec\n",
    "    \n",
    "]"
   ]
  },
  {
   "cell_type": "code",
   "execution_count": 580,
   "metadata": {},
   "outputs": [],
   "source": [
    "\n",
    "\n",
    "content2 = [\n",
    "    pn.pane.Markdown('''\n",
    "    2\n",
    "'''), \n",
    "    pn.pane.PNG('data.png')\n",
    " \n",
    "]\n"
   ]
  },
  {
   "cell_type": "code",
   "execution_count": 581,
   "metadata": {},
   "outputs": [],
   "source": [
    "p1 = figure(width=300, height=300)\n",
    "p1.line([1, 2, 3], [1, 2, 3])\n",
    "\n",
    "tabs = pn.Tabs(p1)\n",
    "\n",
    "# Add a tab\n",
    "tabs.append(('Slider', pn.widgets.FloatSlider()))\n",
    "\n",
    "# Add multiple tabs\n",
    "tabs.extend([\n",
    "    ('Text', pn.widgets.TextInput()),\n",
    "    ('Color', pn.widgets.ColorPicker())\n",
    "])\n",
    "\n",
    "content3 = [\n",
    "    pn.pane.Markdown('''\n",
    "    3\n",
    "'''),\n",
    "    tabs\n",
    "]\n",
    "\n"
   ]
  },
  {
   "cell_type": "code",
   "execution_count": 582,
   "metadata": {},
   "outputs": [
    {
     "name": "stdout",
     "output_type": "stream",
     "text": [
      "[[1 1 1 1]\n",
      " [1 1 1 1]\n",
      " [1 1 1 1]\n",
      " [1 1 1 1]\n",
      " [1 1 1 1]]\n"
     ]
    }
   ],
   "source": [
    "gspec_about = pn.GridSpec(sizing_mode='stretch_both', max_height=800)\n",
    "gspec_about[0:7, 0:3] = pn.Spacer(background='purple', margin=0)\n",
    "\n",
    "gspec_about[7:8, 0:3] = pn.pane.HTML(\"\"\" \n",
    "    <h3 class = \"demo-title\"data-aos=\"zoom-in\" style=\"color: #92a196\">Supported By</h3> \"\"\", \n",
    "    style={'text-align':'center', 'bottom': '0', 'position':'absolute'})\n",
    "\n",
    "gspec_about[8:10, 0:1] = pn.pane.PNG(\"quinte4.png\")\n",
    "gspec_about[8:10, 1:2] = pn.pane.PNG(\"concept5.png\")\n",
    "gspec_about[8:10, 2:3] = pn.pane.PNG(\"waterloo2.png\")\n",
    "\n",
    "print(gspec.grid)\n",
    "content4 = [\n",
    "    pn.pane.Markdown('''\n",
    "    5\n",
    "'''), \n",
    "    gspec_about\n",
    "\n",
    "]\n"
   ]
  },
  {
   "cell_type": "code",
   "execution_count": 583,
   "metadata": {},
   "outputs": [],
   "source": [
    "xs = np.linspace(0, np.pi)\n",
    "freq = pn.widgets.FloatSlider(name=\"Frequency\", start=0, end=10, value=2)\n",
    "phase = pn.widgets.FloatSlider(name=\"Phase\", start=0, end=np.pi)\n",
    "\n",
    "@pn.depends(freq=freq, phase=phase)\n",
    "def sine(freq, phase):\n",
    "    return hv.Curve((xs, np.sin(xs*freq+phase))).opts(\n",
    "        responsive=True, min_height=400)\n",
    "\n",
    "testcontent1 = [\n",
    "    pn.Row(freq, phase),\n",
    "    pn.Card(hv.DynamicMap(sine), title='Sine')\n",
    "    ]"
   ]
  },
  {
   "cell_type": "code",
   "execution_count": null,
   "metadata": {},
   "outputs": [],
   "source": []
  },
  {
   "cell_type": "code",
   "execution_count": 584,
   "metadata": {},
   "outputs": [
    {
     "data": {
      "text/plain": [
       "Watcher(inst=Button(button_type='primary', name='About', sizing_mode='stretch_width'), cls=<class 'panel.widgets.button.Button'>, fn=<function load_content4 at 0x0000024793A25D30>, mode='args', onlychanged=False, parameter_names=('clicks',), what='value', queued=False, precedence=0)"
      ]
     },
     "execution_count": 584,
     "metadata": {},
     "output_type": "execute_result"
    }
   ],
   "source": [
    "bootstrap = pn.template.MaterialTemplate(\n",
    "    title='Sepsis Data Analytics Study', \n",
    "    theme=DarkTheme,\n",
    "    # busy_indicator=BooleanIndicator(),\n",
    "    # header_background=\"Blue\",\n",
    "    # header_color (str): Optional header text color override.\n",
    "    logo = logo_uri, \n",
    "    # site = \"Sepsis Data Analytics Dashboard\",\n",
    "    site_url = \"https://houseai.tech\",\n",
    "    sidebar_width = 370\n",
    ")\n",
    "\n",
    "\n",
    "link1 = pn.widgets.Button(name='Welcome', button_type = \"primary\")\n",
    "link2 = pn.widgets.Button(name='Sepsis Data Pre-Processing', button_type = \"primary\")\n",
    "link3 = pn.widgets.Button(name='Sepsis Data Insights', button_type = \"primary\")\n",
    "link4 = pn.widgets.Button(name='About', button_type = \"primary\")\n",
    "\n",
    "bootstrap.sidebar.append(link1)\n",
    "bootstrap.sidebar.append(link2)\n",
    "bootstrap.sidebar.append(link3)\n",
    "bootstrap.sidebar.append(link4)\n",
    "\n",
    "page = pn.Column(sizing_mode='stretch_width')\n",
    "\n",
    "bootstrap.main.append(page)\n",
    "\n",
    "def load_content1(event):\n",
    "    bootstrap.main[0].objects = content1\n",
    "\n",
    "def load_content2(event):\n",
    "    bootstrap.main[0].objects = content2\n",
    "\n",
    "def load_content3(event):\n",
    "    bootstrap.main[0].objects = content3\n",
    "\n",
    "def load_content4(event):\n",
    "    bootstrap.main[0].objects = content4\n",
    "\n",
    "\n",
    "link1.on_click(load_content1)\n",
    "link2.on_click(load_content2)\n",
    "link3.on_click(load_content3)\n",
    "link4.on_click(load_content4)\n",
    "\n"
   ]
  },
  {
   "cell_type": "code",
   "execution_count": 585,
   "metadata": {},
   "outputs": [
    {
     "name": "stdout",
     "output_type": "stream",
     "text": [
      "Launching server at http://localhost:62169\n"
     ]
    },
    {
     "data": {
      "text/plain": [
       "<panel.io.server.Server at 0x24794cb6b20>"
      ]
     },
     "execution_count": 585,
     "metadata": {},
     "output_type": "execute_result"
    }
   ],
   "source": [
    "bootstrap.show()"
   ]
  }
 ],
 "metadata": {
  "kernelspec": {
   "display_name": "Python 3.8.6 64-bit",
   "language": "python",
   "name": "python3"
  },
  "language_info": {
   "codemirror_mode": {
    "name": "ipython",
    "version": 3
   },
   "file_extension": ".py",
   "mimetype": "text/x-python",
   "name": "python",
   "nbconvert_exporter": "python",
   "pygments_lexer": "ipython3",
   "version": "3.8.6 (tags/v3.8.6:db45529, Sep 23 2020, 15:52:53) [MSC v.1927 64 bit (AMD64)]"
  },
  "orig_nbformat": 4,
  "vscode": {
   "interpreter": {
    "hash": "44a9b928de23f217cb58421951dc047afbff40aec350cb280a953c19f76f7469"
   }
  }
 },
 "nbformat": 4,
 "nbformat_minor": 2
}
